{
 "cells": [
  {
   "cell_type": "code",
   "execution_count": null,
   "metadata": {},
   "outputs": [],
   "source": [
    "import os\n",
    "import pandas as pd\n",
    "import cv2\n",
    "from tqdm import tqdm\n",
    "\n",
    "dataset_path = 'C:/Users/liboh/OneDrive/デスクトップ/data'\n",
    "\n",
    "os.chdir(dataset_path)\n",
    "dirs = os.listdir()\n",
    "\n",
    "# for file in dirs:\n",
    "#     print (file)\n",
    "df = pd.DataFrame()#创建DataFrame。\n",
    "for i in tqdm(os.listdir()):  # 遍历每个种类\n",
    "    print(i)\n",
    "    os.chdir(i)\n",
    "    for file in os.listdir():  # 遍历每张图像\n",
    "        # print(file)\n",
    "        try:\n",
    "            img = cv2.imread(file)\n",
    "            data={'类别':[i],\n",
    "                  '文件名':[file],\n",
    "                  '图像宽':[img.shape[1]],\n",
    "                  '图像高':[img.shape[0]]\n",
    "            }\n",
    "\n",
    "            df1 = pd.DataFrame(data)\n",
    "\n",
    "            df = pd.concat([df,df1],ignore_index=True)#将每个DataFrame连接在一起\n",
    "        except:\n",
    "            print(os.path.join(i, file), '读取错误')\n",
    "    os.chdir('../')\n",
    "os.chdir('../')\n",
    "print(df)"
   ]
  }
 ],
 "metadata": {
  "kernelspec": {
   "display_name": "Python 3",
   "language": "python",
   "name": "python3"
  },
  "language_info": {
   "codemirror_mode": {
    "name": "ipython",
    "version": 3
   },
   "file_extension": ".py",
   "mimetype": "text/x-python",
   "name": "python",
   "nbconvert_exporter": "python",
   "pygments_lexer": "ipython3",
   "version": "3.6.5"
  }
 },
 "nbformat": 4,
 "nbformat_minor": 2
}
